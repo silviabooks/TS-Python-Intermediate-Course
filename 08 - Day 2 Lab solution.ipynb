{
 "cells": [
  {
   "cell_type": "markdown",
   "id": "02f657c2-6041-4471-9164-6aa108a37157",
   "metadata": {},
   "source": [
    "# Laboratory Session: LangChain with OllamaLLM - Document Analyzer"
   ]
  },
  {
   "attachments": {},
   "cell_type": "markdown",
   "id": "4a83ef7a-22af-4cb9-9d35-29573542742e",
   "metadata": {},
   "source": [
    "**Session Breakdown:**\n",
    "\n",
    "1. Setup and Environment Preparation (15 minutes)\n",
    "2. LangChain and OllamaLLM Fundamentals (30 minutes)\n",
    "3. Practical Implementation - Document Analyzer (45 minutes)\n",
    "4. Lab Wrap-Up and Discussion (15 minutes)\n",
    "\n",
    "**Learning Objectives**\n",
    "\n",
    "...\n",
    "\n",
    "**Resources**\n",
    "\n",
    "- [Ollama Official Documentation](https://ollama.ai/docs)\n",
    "- [LangChain Documentation](https://python.langchain.com/)"
   ]
  },
  {
   "cell_type": "markdown",
   "id": "147fc4da-2bdd-43b6-947c-baea9fbbe597",
   "metadata": {},
   "source": [
    "# LangChain Workshop: Environment Setup"
   ]
  },
  {
   "cell_type": "markdown",
   "id": "f704ac05-ed39-465a-a13c-82a7aade3b9c",
   "metadata": {
    "jp-MarkdownHeadingCollapsed": true
   },
   "source": [
    "### 1. Prerequisites and System Check"
   ]
  },
  {
   "cell_type": "markdown",
   "id": "d80a05de-93ff-4fa9-a4a1-8f036341f48d",
   "metadata": {},
   "source": [
    "#### Python and Environment Preparation"
   ]
  },
  {
   "cell_type": "code",
   "execution_count": null,
   "id": "c3e14d1b-e035-4ba6-aa36-12845df4ec22",
   "metadata": {},
   "outputs": [],
   "source": [
    "# Verify Python Installation\n",
    "!python --version"
   ]
  },
  {
   "cell_type": "code",
   "execution_count": null,
   "id": "288f7386-ceb3-4ec2-8e2f-39a662c3d120",
   "metadata": {},
   "outputs": [],
   "source": [
    "# Create a virtual environment\n",
    "!python -m venv langchain_workshop"
   ]
  },
  {
   "cell_type": "code",
   "execution_count": null,
   "id": "96d5890a-67af-47ab-9cbf-76cfc7d37f85",
   "metadata": {},
   "outputs": [],
   "source": [
    "# Check the os\n",
    "import platform\n",
    "platform.platform()"
   ]
  },
  {
   "cell_type": "code",
   "execution_count": null,
   "id": "4c68d52b-5d0c-41dd-90e2-b2cfb291d2ee",
   "metadata": {},
   "outputs": [],
   "source": [
    "# Activate the virtual environment\n",
    "# On Unix or MacOS\n",
    "!source langchain_workshop/bin/activate"
   ]
  },
  {
   "cell_type": "code",
   "execution_count": null,
   "id": "d6817981-73d8-4cc3-8f0f-7709a32f29b1",
   "metadata": {},
   "outputs": [],
   "source": [
    "# On Windows\n",
    "!langchain_workshop\\Scripts\\activate"
   ]
  },
  {
   "cell_type": "markdown",
   "id": "50b08ea1-9639-4d13-9231-6dee10e78d75",
   "metadata": {
    "jp-MarkdownHeadingCollapsed": true
   },
   "source": [
    "### 2. Library Installation"
   ]
  },
  {
   "cell_type": "markdown",
   "id": "1637ac3f-8ade-4d79-9a5d-fa01ab770a79",
   "metadata": {},
   "source": [
    "#### Install Required Libraries"
   ]
  },
  {
   "cell_type": "code",
   "execution_count": null,
   "id": "361b1f04-f301-4bdb-8d73-34d1ba5be1ad",
   "metadata": {},
   "outputs": [],
   "source": [
    "!pip install --upgrade pip"
   ]
  },
  {
   "cell_type": "code",
   "execution_count": null,
   "id": "44fd016b-ee2d-466f-a745-d2198dc8b913",
   "metadata": {
    "scrolled": true
   },
   "outputs": [],
   "source": [
    "# Install core libraries\n",
    "!pip install \\\n",
    "    langchain \\\n",
    "    ollama \\\n",
    "    pypdf \\\n",
    "    transformers \\\n",
    "    sentence-transformers \\\n",
    "    chromadb \\\n",
    "    unstructured \\\n",
    "    langchain_community"
   ]
  },
  {
   "cell_type": "markdown",
   "id": "fdc2eccc-b731-4a5b-9475-eff9b97f5bbc",
   "metadata": {
    "jp-MarkdownHeadingCollapsed": true
   },
   "source": [
    "### 3. Ollama and Model Setup"
   ]
  },
  {
   "cell_type": "markdown",
   "id": "3aa8a110-b280-43e0-943a-e4828643b970",
   "metadata": {},
   "source": [
    "#### Verify Ollama Installation"
   ]
  },
  {
   "cell_type": "code",
   "execution_count": null,
   "id": "def893bb-9908-4bd7-917c-5b68bb8a3902",
   "metadata": {},
   "outputs": [],
   "source": [
    "# Verify Ollama is running\n",
    "import ollama\n",
    "\n",
    "# List available models\n",
    "print(ollama.list())"
   ]
  },
  {
   "cell_type": "markdown",
   "id": "747a9dea-1e14-46aa-8891-17c83cd2d829",
   "metadata": {},
   "source": [
    "#### Download Ollama Model"
   ]
  },
  {
   "cell_type": "code",
   "execution_count": null,
   "id": "09514bb3-e381-4d20-a489-7757a2758581",
   "metadata": {
    "scrolled": true
   },
   "outputs": [],
   "source": [
    "# Pull a suitable open-source model\n",
    "!ollama pull llama3.2"
   ]
  },
  {
   "cell_type": "markdown",
   "id": "60f92e0d-ef74-4318-b7b3-5337bb365143",
   "metadata": {},
   "source": [
    "### 4. Environment Verification Script"
   ]
  },
  {
   "cell_type": "code",
   "execution_count": 3,
   "id": "ebde0db8-8083-4829-80ee-21a01b3b7f74",
   "metadata": {},
   "outputs": [],
   "source": [
    "import sys\n",
    "import ollama\n",
    "import langchain\n",
    "\n",
    "def check_environment():\n",
    "    \"\"\"Perform comprehensive environment check.\"\"\"\n",
    "    print(\"--- Environment Check ---\\n\")\n",
    "    \n",
    "    # Python version\n",
    "    print(f\"Python Version: {sys.version}\")\n",
    "    \n",
    "    # Library versions\n",
    "    print(f\"LangChain Version: {langchain.__version__}\\n\")\n",
    "    \n",
    "    # Verify model availability\n",
    "    try:\n",
    "        models = ollama.list()\n",
    "        print(\"Ollama Models Available:\\n\")\n",
    "        for model in models['models']:\n",
    "            print(f\"- {model['model']}\")\n",
    "    except Exception as e:\n",
    "        print(f\"Error checking Ollama models: {e}\")"
   ]
  },
  {
   "cell_type": "code",
   "execution_count": 4,
   "id": "eefecb96-0f47-4510-aebe-ce4fb128e578",
   "metadata": {},
   "outputs": [
    {
     "name": "stdout",
     "output_type": "stream",
     "text": [
      "--- Environment Check ---\n",
      "\n",
      "Python Version: 3.11.7 (main, Sep  3 2024, 17:13:36) [Clang 15.0.0 (clang-1500.3.9.4)]\n",
      "LangChain Version: 0.3.11\n",
      "\n",
      "Ollama Models Available:\n",
      "\n",
      "- llama3.2:latest\n",
      "- mistral:latest\n"
     ]
    }
   ],
   "source": [
    "# Run the check\n",
    "check_environment()"
   ]
  },
  {
   "cell_type": "markdown",
   "id": "41fa1f3c-809f-4eb3-886e-b91f4c6e9261",
   "metadata": {},
   "source": [
    "### 5. Troubleshooting Guide"
   ]
  },
  {
   "cell_type": "code",
   "execution_count": null,
   "id": "5e44745e-2cce-4238-8ae9-def78384ae90",
   "metadata": {},
   "outputs": [],
   "source": [
    "def troubleshoot_ollama():\n",
    "    \"\"\"Display Ollama troubleshooting guidelines.\"\"\"\n",
    "    print(\"\\n--- Ollama Troubleshooting Guide ---\")\n",
    "    print(\"Common Issues and Solutions:\")\n",
    "    \n",
    "    issues = {\n",
    "        \"Installation\": [\n",
    "            \"Ensure Ollama is installed\",\n",
    "            \"Check system PATH\",\n",
    "            \"Verify administrative permissions\"\n",
    "        ],\n",
    "        \"Connection\": [\n",
    "            \"Check internet connectivity\",\n",
    "            \"Verify firewall settings\",\n",
    "            \"Restart Ollama service\"\n",
    "        ],\n",
    "        \"Model Download\": [\n",
    "            \"Sufficient disk space\",\n",
    "            \"Stable internet connection\",\n",
    "            \"Use `ollama pull` command\"\n",
    "        ]\n",
    "    }\n",
    "    \n",
    "    for category, solutions in issues.items():\n",
    "        print(f\"\\n{category} Troubleshooting:\")\n",
    "        for solution in solutions:\n",
    "            print(f\"- {solution}\")\n",
    "\n",
    "# Display troubleshooting guide\n",
    "troubleshoot_ollama()"
   ]
  },
  {
   "cell_type": "markdown",
   "id": "9d1fb564-d6f3-495c-b986-e71f144b9202",
   "metadata": {
    "jp-MarkdownHeadingCollapsed": true
   },
   "source": [
    "# LangChain and Large Language Models - Theoretical Foundation"
   ]
  },
  {
   "cell_type": "markdown",
   "id": "754cbbd5-c3ec-41b2-81cb-7e2402d81b70",
   "metadata": {},
   "source": [
    "## Table of Contents\n",
    "1. [Introduction to LangChain](#introduction-to-langchain)\n",
    "2. [Understanding Large Language Models](#understanding-large-language-models)\n",
    "3. [Core Components of LangChain](#core-components-of-langchain)\n",
    "4. [Working with Local LLMs](#working-with-local-llms)\n",
    "5. [Design Patterns and Best Practices](#design-patterns-and-best-practices)"
   ]
  },
  {
   "cell_type": "markdown",
   "id": "fcc846e8-ae45-4bcc-b5e3-90a3df5bcc42",
   "metadata": {},
   "source": [
    "## Introduction to LangChain"
   ]
  },
  {
   "cell_type": "markdown",
   "id": "d2570554-76f1-4cfc-ae75-cfc8dfaa32c8",
   "metadata": {
    "jp-MarkdownHeadingCollapsed": true
   },
   "source": [
    "### What is LangChain?\n",
    "LangChain is a framework designed to simplify the development of applications using large language models (LLMs). It provides a standardized interface for chaining together different components needed in LLM-powered applications.\n",
    "\n",
    "### Key Features\n",
    "- **Component Architecture**: Modular design for easy integration\n",
    "- **Chain Construction**: Sequential processing of language tasks\n",
    "- **Memory Management**: Context handling across conversations\n",
    "- **Prompt Management**: Templates and dynamic prompt generation\n",
    "- **Model Integration**: Support for various LLM providers\n",
    "\n",
    "### Use Cases\n",
    "1. Document Analysis and QA\n",
    "2. Chatbots and Conversational Agents\n",
    "3. Data Analysis and Summarization\n",
    "4. Text Generation and Processing\n",
    "5. Knowledge Base Construction"
   ]
  },
  {
   "cell_type": "markdown",
   "id": "e45316e1-1b39-45fc-94c4-0e52e3a3babe",
   "metadata": {},
   "source": [
    "## Understanding Large Language Models"
   ]
  },
  {
   "cell_type": "markdown",
   "id": "826139b9-9983-4b8a-a6bd-4bdb97ea0ffa",
   "metadata": {
    "jp-MarkdownHeadingCollapsed": true
   },
   "source": [
    "### Fundamentals of LLMs\n",
    "Large Language Models are neural networks trained on vast amounts of text data. They excel at:\n",
    "- Text Generation\n",
    "- Pattern Recognition\n",
    "- Context Understanding\n",
    "- Language Translation\n",
    "- Code Generation\n",
    "\n",
    "### Types of LLMs\n",
    "1. **Cloud-based Models**\n",
    "   - OpenAI GPT Series\n",
    "   - Anthropic Claude\n",
    "   - Google PaLM\n",
    "\n",
    "2. **Local Models**\n",
    "   - Ollama Models\n",
    "   - Llama 2\n",
    "   - GPT4All\n",
    "   - LocalAI\n",
    "\n",
    "### Comparing Local vs. Cloud LLMs\n",
    "\n",
    "| Aspect | Local LLMs | Cloud LLMs |\n",
    "|--------|------------|------------|\n",
    "| Privacy | High | Depends on Provider |\n",
    "| Cost | One-time/Free | Pay-per-use |\n",
    "| Latency | Hardware Dependent | Network Dependent |\n",
    "| Setup Complexity | Higher | Lower |\n",
    "| Customization | More Flexible | Limited |"
   ]
  },
  {
   "cell_type": "markdown",
   "id": "04b33373-d51a-443c-b550-64d7961fbf3c",
   "metadata": {},
   "source": [
    "## Core Components of LangChain"
   ]
  },
  {
   "cell_type": "markdown",
   "id": "b3bbc94c-4afd-4eaa-af9f-289696e850fa",
   "metadata": {},
   "source": [
    "### 1. Chains\n",
    "Chains are sequences of operations that:\n",
    "- Process inputs systematically\n",
    "- Combine multiple components\n",
    "- Manage state and memory\n",
    "- Handle errors and edge cases\n",
    "\n",
    "Example Chain Structure:\n",
    "```python\n",
    "input → Prompt Template → LLM → Output Parser → final output\n",
    "```\n",
    "\n",
    "**Basic Chain Syntax**\n",
    "```python\n",
    "chain = prompt | self.llm\n",
    "response = chain.invoke({\n",
    "    'context': context,\n",
    "    'question': question\n",
    "})\n",
    "```"
   ]
  },
  {
   "cell_type": "markdown",
   "id": "57b8541b-6182-498d-a0cd-944c64141a9e",
   "metadata": {},
   "source": [
    "#### Step-by-Step Breakdown\n",
    "\n",
    "##### 1. Chain Creation (`chain = prompt | self.llm`)\n",
    "- The `|` (pipe) operator creates a sequential chain\n",
    "- Purpose: \"Take the output of the prompt template and feed it into the LLM\"\n",
    "- Similar to Unix pipes: output of one command becomes input to another\n",
    "- Under the hood process:\n",
    "  1. Format prompt template with variables\n",
    "  2. Send formatted prompt to LLM for processing\n",
    "\n",
    "##### 2. Prompt Template Definition\n",
    "```python\n",
    "prompt = PromptTemplate.from_template(\n",
    "    \"Invoice Data:\\n{context}\\n\\n\"\n",
    "    \"Question: {question}\\n\\n\"\n",
    "    \"Provide a detailed, data-driven answer.\"\n",
    ")\n",
    "```\n",
    "- Template contains two variables: `{context}` and `{question}`\n",
    "- Variables are filled with actual values during invocation\n",
    "\n",
    "##### 3. LLM Configuration\n",
    "```python\n",
    "self.llm = Ollama(model='mistral', temperature=0.1)\n",
    "```\n",
    "\n",
    "##### 4. Chain Invocation\n",
    "```python\n",
    "response = chain.invoke({\n",
    "    'context': context,\n",
    "    'question': question\n",
    "})\n",
    "```\n",
    "Process flow:\n",
    "1. Takes input dictionary\n",
    "2. Formats prompt template\n",
    "3. Sends to Ollama\n",
    "4. Returns response\n",
    "\n",
    "#### Example Usage\n",
    "\n",
    "```python\n",
    "# Context and question\n",
    "context = \"Invoice #1: $500, Invoice #2: $300\"\n",
    "question = \"What's the total amount?\"\n",
    "\n",
    "# Generated prompt\n",
    "formatted_prompt = \"\"\"\n",
    "Invoice Data:\n",
    "Invoice #1: $500, Invoice #2: $300\n",
    "\n",
    "Question: What's the total amount?\n",
    "\n",
    "Provide a detailed, data-driven answer.\n",
    "\"\"\"\n",
    "\n",
    "chain = prompt | self.llm\n",
    "response = chain.invoke({'context': context, 'question': question})\n",
    "\n",
    "# Example response\n",
    "response = \"The total amount across the two invoices is $800, calculated by adding Invoice #1 ($500) and Invoice #2 ($300).\"\n",
    "```"
   ]
  },
  {
   "cell_type": "markdown",
   "id": "933ed198-df45-4240-92fe-cbe534cff9eb",
   "metadata": {
    "jp-MarkdownHeadingCollapsed": true
   },
   "source": [
    "### 2. Prompts\n",
    "Prompts are structured templates that:\n",
    "- Guide LLM behavior\n",
    "- Include context and instructions\n",
    "- Handle variable substitution\n",
    "- Enforce output formats"
   ]
  },
  {
   "cell_type": "markdown",
   "id": "3cace639-5aff-44b8-9149-02e119c00171",
   "metadata": {
    "jp-MarkdownHeadingCollapsed": true
   },
   "source": [
    "### 3. Memory\n",
    "Memory systems in LangChain:\n",
    "- Store conversation history\n",
    "- Maintain context\n",
    "- Handle token limitations\n",
    "- Enable stateful interactions"
   ]
  },
  {
   "cell_type": "markdown",
   "id": "90bb795a-e33e-44ad-a6c9-b83485d66d8c",
   "metadata": {
    "jp-MarkdownHeadingCollapsed": true
   },
   "source": [
    "### 4. Output Parsers\n",
    "Output parsers:\n",
    "- Structure LLM responses\n",
    "- Validate outputs\n",
    "- Transform data formats\n",
    "- Handle errors"
   ]
  },
  {
   "cell_type": "markdown",
   "id": "f9d567fb-b2e6-4529-b864-0506a400b4eb",
   "metadata": {},
   "source": [
    "## Working with Local LLMs"
   ]
  },
  {
   "cell_type": "markdown",
   "id": "12ec077c-ef03-4e8a-ab0b-1fded71b05b2",
   "metadata": {
    "jp-MarkdownHeadingCollapsed": true
   },
   "source": [
    "### Ollama Integration\n",
    "Ollama provides:\n",
    "- Easy model management\n",
    "- Local execution\n",
    "- Custom model support\n",
    "- API compatibility\n",
    "\n",
    "### Model Selection Criteria\n",
    "Consider:\n",
    "1. Hardware Requirements\n",
    "2. Performance Needs\n",
    "3. Licensing Requirements\n",
    "4. Use Case Compatibility\n",
    "\n",
    "### Performance Optimization\n",
    "Strategies include:\n",
    "- Prompt Engineering\n",
    "- Context Window Management\n",
    "- Batch Processing\n",
    "- Caching Mechanisms"
   ]
  },
  {
   "cell_type": "markdown",
   "id": "829fc29f-5938-433c-9fa5-107f724ae9dd",
   "metadata": {},
   "source": [
    "## Design Patterns and Best Practices\n",
    "\n",
    "### 1. Prompt Engineering Patterns\n",
    "- **Zero-shot Learning**: No examples needed\n",
    "- **Few-shot Learning**: Include examples in prompt\n",
    "- **Chain-of-Thought**: Break down complex reasoning\n",
    "- **Self-Consistency**: Multiple passes for verification\n",
    "\n",
    "### 2. Error Handling\n",
    "```python\n",
    "try:\n",
    "    response = chain.invoke(input_data)\n",
    "except LLMError:\n",
    "    # Handle model errors\n",
    "except ChainError:\n",
    "    # Handle chain execution errors\n",
    "except ParseError:\n",
    "    # Handle output parsing errors\n",
    "```\n",
    "\n",
    "### 3. Performance Optimization\n",
    "- Cache frequently used results\n",
    "- Batch similar requests\n",
    "- Implement retry mechanisms\n",
    "- Monitor token usage\n",
    "\n",
    "### 4. Security Considerations\n",
    "1. Input Validation\n",
    "2. Output Sanitization\n",
    "3. Rate Limiting\n",
    "4. Access Control"
   ]
  },
  {
   "cell_type": "markdown",
   "id": "d85d90f6-2ba6-4df6-97af-8e978f53663f",
   "metadata": {
    "jp-MarkdownHeadingCollapsed": true
   },
   "source": [
    "## Further Reading"
   ]
  },
  {
   "cell_type": "markdown",
   "id": "6b4c4b5e-fc35-4f1a-836e-d9efd5d35030",
   "metadata": {
    "jp-MarkdownHeadingCollapsed": true
   },
   "source": [
    "1. LangChain Documentation\n",
    "   - [Python Documentation](https://python.langchain.com/)\n",
    "   - [JavaScript Documentation](https://js.langchain.com/)\n",
    "\n",
    "2. Ollama Resources\n",
    "   - [Official Documentation](https://ollama.ai/docs)\n",
    "   - [Model Library](https://ollama.ai/library)\n",
    "\n",
    "3. Related Topics\n",
    "   - Prompt Engineering\n",
    "   - Vector Databases\n",
    "   - Embeddings\n",
    "   - RAG (Retrieval Augmented Generation)"
   ]
  },
  {
   "cell_type": "markdown",
   "id": "228550cf-106f-48be-a2ac-65ce31b21c97",
   "metadata": {},
   "source": [
    "# LangChain Invoice Analyzer Exercise"
   ]
  },
  {
   "cell_type": "markdown",
   "id": "d1e4a14d-0897-4c7f-8116-8234c23d0fe6",
   "metadata": {
    "jp-MarkdownHeadingCollapsed": true
   },
   "source": [
    "## Objective\n",
    "Create an invoice analysis tool that can:\n",
    "- Load JSON invoice data\n",
    "- Perform financial analytics\n",
    "- Generate insights\n",
    "- Answer specific questions about invoices\n"
   ]
  },
  {
   "cell_type": "markdown",
   "id": "3f3abbf1-4c57-47c1-9866-414912d5a15e",
   "metadata": {},
   "source": [
    "## Sample Invoice JSON Structure\n",
    "```json\n",
    "[\n",
    "    {\n",
    "        \"invoice_id\": \"INV-2024-001\",\n",
    "        \"customer_name\": \"TechCorp Solutions\",\n",
    "        \"date\": \"2024-01-15\",\n",
    "        \"total_amount\": 5750.25,\n",
    "        \"items\": [\n",
    "            {\"name\": \"Software License\", \"quantity\": 10, \"unit_price\": 450.00},\n",
    "            {\"name\": \"Cloud Services\", \"quantity\": 5, \"unit_price\": 250.50}\n",
    "        ],\n",
    "        \"payment_status\": \"Paid\",\n",
    "        \"tax_rate\": 0.18\n",
    "    },\n",
    "    {\n",
    "        ...\n",
    "    }\n",
    "]\n",
    "```"
   ]
  },
  {
   "cell_type": "markdown",
   "id": "73a85fc2-81bd-407a-a87e-102402860ee6",
   "metadata": {
    "jp-MarkdownHeadingCollapsed": true
   },
   "source": [
    "## Task 1: Implement AI-Powered Financial Insights Generator"
   ]
  },
  {
   "cell_type": "markdown",
   "id": "1b6c5124-c472-42e3-ae4c-40287c321222",
   "metadata": {},
   "source": [
    "Given the class AdvancedInvoiceAnalyzer, create a method that generates AI-powered insights from invoice data using LangChain and Ollama. The method should compile financial data and use an LLM to provide business analysis.\n",
    "\n",
    "### Method Structure\n",
    "```python\n",
    "def ai_powered_insights(self):\n",
    "    \"\"\"Your implementation here\"\"\"\n",
    "```\n",
    "\n",
    "### The method should:\n",
    "1. Combine data from three existing methods:\n",
    "   - `financial_summary()`\n",
    "   - `generate_tax_analysis()`\n",
    "   - `item_level_analysis()`\n",
    "\n",
    "2. Create a structured context string containing:\n",
    "   - Financial Overview\n",
    "   - Tax Analysis\n",
    "   - Top Items Analysis\n",
    "\n",
    "3. Use LangChain's PromptTemplate to create an analysis prompt\n",
    "\n",
    "4. Return AI-generated insights using the LLM\n",
    "\n",
    "### Expected Format of Context String\n",
    "```text\n",
    "Financial Overview:\n",
    "- Total Invoices: [number]\n",
    "- Total Revenue: $[amount]\n",
    "- Payment Status: [breakdown]\n",
    "\n",
    "Tax Analysis:\n",
    "- Total Tax Collected: $[amount]\n",
    "- Average Tax Rate: [percentage]\n",
    "\n",
    "Top Items:\n",
    "[item analysis data]\n",
    "```\n",
    "\n",
    "### Steps to Complete\n",
    "1. Collect data from existing analysis methods\n",
    "2. Format the context string with f-strings\n",
    "3. Create a PromptTemplate for analysis\n",
    "4. Set up LangChain chain\n",
    "5. Return the insights"
   ]
  },
  {
   "cell_type": "markdown",
   "id": "f328e6fc-14ce-4f97-a198-e4f310621606",
   "metadata": {
    "jp-MarkdownHeadingCollapsed": true
   },
   "source": [
    "## Task 2: Implement Interactive Query Handler"
   ]
  },
  {
   "cell_type": "markdown",
   "id": "85995d99-d8b6-4512-be16-5f2410dc373e",
   "metadata": {},
   "source": [
    "### Your Task\n",
    "Create a method that allows users to ask questions about invoice data and receive AI-generated answers. The method should take a user question, combine it with invoice data context, and use an LLM to generate a response.\n",
    "\n",
    "### Method Structure\n",
    "```python\n",
    "def interactive_query(self, question):\n",
    "    \"\"\"Your implementation here\"\"\"\n",
    "```\n",
    "\n",
    "### Method Parameters\n",
    "- `question`: String containing the user's query about the invoices\n",
    "\n",
    "### The method should:\n",
    "1. Convert DataFrame to string format for context\n",
    "2. Create a prompt template with context and question\n",
    "3. Generate a response using the LLM\n",
    "\n",
    "### Expected Prompt Format\n",
    "```text\n",
    "Invoice Data:\n",
    "[dataframe contents]\n",
    "\n",
    "Question: [user's question]\n",
    "\n",
    "Provide a detailed, data-driven answer. \n",
    "If the question cannot be directly answered, explain why.\n",
    "```\n",
    "\n",
    "### Steps to Complete\n",
    "1. Access the class DataFrame (`self.df`)\n",
    "2. Convert DataFrame to string representation\n",
    "3. Create PromptTemplate with two variables:\n",
    "   - `context`\n",
    "   - `question`\n",
    "4. Set up LangChain chain\n",
    "5. Return the answer\n",
    "\n",
    "### Sample Usage\n",
    "```python\n",
    "# Example usage\n",
    "analyzer = AdvancedInvoiceAnalyzer(data)\n",
    "response = analyzer.interactive_query(\"What is the total revenue?\")\n",
    "```"
   ]
  },
  {
   "cell_type": "markdown",
   "id": "aa9dbec0-150f-4548-8366-6473093f5770",
   "metadata": {},
   "source": [
    "## Your implementation"
   ]
  },
  {
   "cell_type": "code",
   "execution_count": 5,
   "id": "f56e8aa5-e65f-41b0-9348-90457bf93402",
   "metadata": {},
   "outputs": [],
   "source": [
    "# Import Required Libraries\n",
    "import json\n",
    "import pandas as pd\n",
    "from langchain.llms import Ollama\n",
    "from langchain.prompts import PromptTemplate\n",
    "from langchain.schema.runnable import RunnablePassthrough"
   ]
  },
  {
   "cell_type": "code",
   "execution_count": 6,
   "id": "dcd95889-ada2-44a8-b4e2-7f641eb69c2c",
   "metadata": {},
   "outputs": [],
   "source": [
    "class AdvancedInvoiceAnalyzer:\n",
    "    def __init__(self, invoices_data, model):\n",
    "        \"\"\"\n",
    "        Initialize the invoice analyzer with comprehensive data processing.\n",
    "        \n",
    "        :param invoices_data: List of invoice dictionaries\n",
    "        :param model: Name of the model to use\n",
    "        \"\"\"\n",
    "        # Convert to DataFrame with expanded item details\n",
    "        self.df = self._prepare_dataframe(invoices_data)\n",
    "        \n",
    "        # Setup Ollama Language Model\n",
    "        self.llm = Ollama(model=model, temperature=0.1)\n",
    "    \n",
    "    def _prepare_dataframe(self, invoices_data):\n",
    "        \"\"\"\n",
    "        Prepare a comprehensive DataFrame with expanded invoice details.\n",
    "        \n",
    "        :param invoices_data: List of invoice dictionaries\n",
    "        :return: Processed pandas DataFrame\n",
    "        \"\"\"\n",
    "        # Flatten the invoices to include item-level details\n",
    "        flattened_invoices = []\n",
    "        for invoice in invoices_data:\n",
    "            base_invoice = invoice.copy()\n",
    "            for item in invoice['items']:\n",
    "                invoice_item = base_invoice.copy()\n",
    "                invoice_item.update(item)\n",
    "                invoice_item['item_total'] = item['quantity'] * item['unit_price']\n",
    "                flattened_invoices.append(invoice_item)\n",
    "        \n",
    "        return pd.DataFrame(flattened_invoices)\n",
    "    \n",
    "    def financial_summary(self):\n",
    "        \"\"\"\n",
    "        Generate comprehensive financial summary.\n",
    "        \n",
    "        :return: Dictionary of financial insights\n",
    "        \"\"\"\n",
    "        summary = {\n",
    "            'total_invoices': len(self.df['invoice_id'].unique()),\n",
    "            'total_revenue': self.df['total_amount'].sum(),\n",
    "            'average_invoice_value': self.df['total_amount'].mean(),\n",
    "            'payment_status_breakdown': self.df['payment_status'].value_counts().to_dict(),\n",
    "            'top_customers': (self.df.groupby('customer_name')['total_amount']\n",
    "                               .sum()\n",
    "                               .nlargest(3)\n",
    "                               .to_dict())\n",
    "        }\n",
    "        return summary\n",
    "    \n",
    "    def generate_tax_analysis(self):\n",
    "        \"\"\"\n",
    "        Analyze tax implications across invoices.\n",
    "        \n",
    "        :return: Detailed tax analysis\n",
    "        \"\"\"\n",
    "        tax_summary = {\n",
    "            'total_tax_collected': (self.df['total_amount'] * self.df['tax_rate']).sum(),\n",
    "            'average_tax_rate': self.df['tax_rate'].mean(),\n",
    "            'tax_rate_distribution': self.df['tax_rate'].value_counts().to_dict()\n",
    "        }\n",
    "        return tax_summary\n",
    "    \n",
    "    def item_level_analysis(self):\n",
    "        \"\"\"\n",
    "        Perform detailed analysis of invoice items.\n",
    "        \n",
    "        :return: Comprehensive item-level insights\n",
    "        \"\"\"\n",
    "        item_summary = (self.df.groupby('name').agg({\n",
    "            'quantity': 'sum',\n",
    "            'item_total': 'sum',\n",
    "            'unit_price': 'mean'\n",
    "        }).sort_values('item_total', ascending=False))\n",
    "        \n",
    "        return item_summary\n",
    "    \n",
    "    def ai_powered_insights(self):\n",
    "        \"\"\"\n",
    "        Generate AI-powered natural language insights.\n",
    "        \n",
    "        :return: Conversational financial analysis\n",
    "        \"\"\"\n",
    "        # Prepare comprehensive context\n",
    "        context = f\"\"\"\n",
    "        Financial Overview:\n",
    "        - Total Invoices: {self.financial_summary()['total_invoices']}\n",
    "        - Total Revenue: ${self.financial_summary()['total_revenue']:,.2f}\n",
    "        - Payment Status: {self.financial_summary()['payment_status_breakdown']}\n",
    "        \n",
    "        Tax Analysis:\n",
    "        - Total Tax Collected: ${self.generate_tax_analysis()['total_tax_collected']:,.2f}\n",
    "        - Average Tax Rate: {self.generate_tax_analysis()['average_tax_rate']:.2%}\n",
    "        \n",
    "        Top Items:\n",
    "        {self.item_level_analysis()}\n",
    "        \"\"\"\n",
    "        \n",
    "        # Create a prompt template for generating insights\n",
    "        prompt = PromptTemplate.from_template(\n",
    "            \"Analyze the following financial data and provide insightful, \"\n",
    "            \"professional business recommendations. Focus on financial health, \"\n",
    "            \"potential risks, and strategic opportunities:\\n\\n{context}\"\n",
    "        )\n",
    "        \n",
    "        # Create a chain with the LLM\n",
    "        chain = prompt | self.llm\n",
    "        return chain.invoke({\"context\": context})\n",
    "    \n",
    "    def interactive_query(self, question):\n",
    "        \"\"\"\n",
    "        Answer specific questions about the invoices.\n",
    "        \n",
    "        :param question: User's specific query\n",
    "        :return: Analytical response\n",
    "        \"\"\"\n",
    "        # Prepare context with all invoice details\n",
    "        context = self.df.to_string()\n",
    "        \n",
    "        # Create a flexible query prompt\n",
    "        prompt = PromptTemplate.from_template(\n",
    "            \"Invoice Data:\\n{context}\\n\\n\"\n",
    "            \"Question: {question}\\n\\n\"\n",
    "            \"Provide a detailed, data-driven answer. \"\n",
    "            \"If the question cannot be directly answered, explain why.\"\n",
    "        )\n",
    "        \n",
    "        # Create a chain with the LLM\n",
    "        chain = prompt | self.llm\n",
    "        return chain.invoke({\n",
    "            'context': context,\n",
    "            'question': question\n",
    "        })"
   ]
  },
  {
   "cell_type": "markdown",
   "id": "9b3747d2-d107-4837-b16f-0d03b6e8f382",
   "metadata": {},
   "source": [
    "## Test Your implementation"
   ]
  },
  {
   "cell_type": "code",
   "execution_count": 7,
   "id": "3803d028-927b-4972-8153-bffb4c901a65",
   "metadata": {},
   "outputs": [
    {
     "name": "stderr",
     "output_type": "stream",
     "text": [
      "/var/folders/lq/5mgw2kld6_52g90l3vpw2ks00000gn/T/ipykernel_4929/1899261626.py:13: LangChainDeprecationWarning: The class `Ollama` was deprecated in LangChain 0.3.1 and will be removed in 1.0.0. An updated version of the class exists in the :class:`~langchain-ollama package and should be used instead. To use it run `pip install -U :class:`~langchain-ollama` and import as `from :class:`~langchain_ollama import OllamaLLM``.\n",
      "  self.llm = Ollama(model=model, temperature=0.1)\n"
     ]
    }
   ],
   "source": [
    "# Load invoices from JSON file\n",
    "with open('data/invoice-data.json', 'r') as file:\n",
    "    invoices = json.load(file)\n",
    "\n",
    "# Initialize the analyzer\n",
    "analyzer = AdvancedInvoiceAnalyzer(invoices, model='llama3.2')"
   ]
  },
  {
   "cell_type": "code",
   "execution_count": 8,
   "id": "b09d6a4a-4337-4d53-9ce2-1db9589a412c",
   "metadata": {},
   "outputs": [
    {
     "name": "stdout",
     "output_type": "stream",
     "text": [
      "Financial Summary:\n",
      "{\n",
      "  \"total_invoices\": 13,\n",
      "  \"total_revenue\": 200853.0,\n",
      "  \"average_invoice_value\": 7725.115384615385,\n",
      "  \"payment_status_breakdown\": {\n",
      "    \"Paid\": 12,\n",
      "    \"Pending\": 8,\n",
      "    \"Overdue\": 6\n",
      "  },\n",
      "  \"top_customers\": {\n",
      "    \"Smart Solutions Group\": 31561.0,\n",
      "    \"Tech Solutions Pro\": 25500.0,\n",
      "    \"Software Experts Inc\": 22900.0\n",
      "  }\n",
      "}\n"
     ]
    }
   ],
   "source": [
    "# Financial Summary\n",
    "financial_summary = analyzer.financial_summary()\n",
    "\n",
    "print(\"Financial Summary:\")\n",
    "print(json.dumps(financial_summary, indent=2))"
   ]
  },
  {
   "cell_type": "code",
   "execution_count": 9,
   "id": "ba88450b-d536-4335-83ef-203bbbfac390",
   "metadata": {},
   "outputs": [
    {
     "name": "stdout",
     "output_type": "stream",
     "text": [
      "Tax Analysis:\n",
      "{\n",
      "  \"total_tax_collected\": 37378.84,\n",
      "  \"average_tax_rate\": 0.18,\n",
      "  \"tax_rate_distribution\": {\n",
      "    \"0.18\": 6,\n",
      "    \"0.15\": 6,\n",
      "    \"0.2\": 4,\n",
      "    \"0.21\": 2,\n",
      "    \"0.16\": 2,\n",
      "    \"0.19\": 2,\n",
      "    \"0.17\": 2,\n",
      "    \"0.22\": 2\n",
      "  }\n",
      "}\n"
     ]
    }
   ],
   "source": [
    "# Tax Analysis\n",
    "tax_analysis = analyzer.generate_tax_analysis()\n",
    "print(\"Tax Analysis:\")\n",
    "print(json.dumps(tax_analysis, indent=2))"
   ]
  },
  {
   "cell_type": "code",
   "execution_count": 10,
   "id": "16616359-3dc9-472e-a284-aff98a0688aa",
   "metadata": {},
   "outputs": [
    {
     "name": "stdout",
     "output_type": "stream",
     "text": [
      "Item-Level Analysis:\n",
      "                        quantity  item_total  unit_price\n",
      "name                                                    \n",
      "Software License              30    14500.00      475.00\n",
      "AI Implementation              1    12000.00    12000.00\n",
      "Analytics Dashboard            1     8000.00     8000.00\n",
      "Custom Development            50     7500.00      150.00\n",
      "Enterprise Package             3     7500.00     2500.00\n",
      "Security Audit                 1     6500.00     6500.00\n",
      "Project Management            25     5250.00      210.00\n",
      "App Development                1     5000.00     5000.00\n",
      "Server Maintenance            12     4800.00      400.00\n",
      "Data Migration                 1     3780.50     3780.50\n",
      "Cloud Storage Plus             5     3750.00      750.00\n",
      "Implementation Support        15     3450.00      230.00\n",
      "Consulting Hours              16     3200.00      200.00\n",
      "Network Setup                  1     3000.00     3000.00\n",
      "Website Hosting               10     2500.00      250.00\n",
      "Firewall Setup                 3     2400.75      800.25\n",
      "Training Session               5     1875.25      375.05\n",
      "UX Design                      5     1780.25      356.05\n",
      "Cable Installation            50     1567.50       31.35\n",
      "Cloud Services                 5     1252.50      250.50\n",
      "Hardware Rental                2      900.50      450.25\n",
      "Support Contract               1      890.50      890.50\n",
      "SSL Certificates               5      750.00      150.00\n",
      "Backup Service                 6      660.00      110.00\n",
      "API Access License             2      601.50      300.75\n"
     ]
    }
   ],
   "source": [
    "# Item-Level Analysis\n",
    "item_level_analysis = analyzer.item_level_analysis()\n",
    "print(\"Item-Level Analysis:\")\n",
    "print(item_level_analysis)"
   ]
  },
  {
   "cell_type": "code",
   "execution_count": 12,
   "id": "42161bc3-69a1-4221-949d-dfa89fb5e9d7",
   "metadata": {},
   "outputs": [
    {
     "name": "stdout",
     "output_type": "stream",
     "text": [
      "\n",
      "AI-Powered Insights:\n",
      "Based on the provided financial data, here are some insightful and professional business recommendations:\n",
      "\n",
      "**Financial Health:**\n",
      "\n",
      "1. **Payment Status Analysis**: The payment status shows that 12 out of 13 invoices have been paid, leaving only one invoice pending. This indicates a high level of customer satisfaction and timely payments.\n",
      "2. **Revenue Growth**: The total revenue has increased by $200,853.00, which is a significant growth rate. However, it's essential to analyze the revenue streams to identify areas for improvement.\n",
      "3. **Tax Analysis**: The average tax rate is 18.00%, which is relatively high. It may be beneficial to review and optimize tax strategies to minimize tax liabilities.\n",
      "\n",
      "**Potential Risks:**\n",
      "\n",
      "1. **Overdue Invoices**: Six invoices are overdue, indicating a potential risk of delayed payments or non-payment. It's crucial to follow up with customers promptly to resolve these issues.\n",
      "2. **High Unit Prices**: Some items have high unit prices, such as the AI Implementation ($12,000.00) and Firewall Setup ($2,400.75). Reviewing pricing strategies to ensure competitiveness and profitability is essential.\n",
      "3. **Dependence on Few Revenue Streams**: The data shows that a few revenue streams, such as Custom Development (50 units), Enterprise Package (3 units), and Cloud Services (5 units), contribute significantly to the total revenue. Diversifying revenue streams can help mitigate risks.\n",
      "\n",
      "**Strategic Opportunities:**\n",
      "\n",
      "1. **Upselling/Cross-Selling**: Analyze the data to identify opportunities for upselling or cross-selling related products or services. For example, offering additional support contracts or consulting hours could increase average order value.\n",
      "2. **Bundle Deals**: Consider creating bundle deals that combine multiple services or products at a discounted price. This can help increase revenue and customer satisfaction.\n",
      "3. **Customer Retention**: Focus on retaining existing customers by offering loyalty programs, discounts, or premium services. This can lead to increased repeat business and positive word-of-mouth marketing.\n",
      "4. **New Service Development**: Identify emerging trends and technologies that could be leveraged to create new services or products. This can help expand the revenue base and stay competitive in the market.\n",
      "\n",
      "**Recommendations:**\n",
      "\n",
      "1. **Implement a Payment Tracking System**: Develop a system to track payment status and follow up with customers promptly to resolve any outstanding issues.\n",
      "2. **Review Pricing Strategies**: Analyze pricing strategies to ensure competitiveness and profitability, particularly for high-unit-price items.\n",
      "3. **Diversify Revenue Streams**: Identify opportunities to diversify revenue streams by offering additional services or products that complement existing offerings.\n",
      "4. **Invest in Customer Retention**: Develop a customer retention strategy that includes loyalty programs, discounts, or premium services to increase repeat business and positive word-of-mouth marketing.\n",
      "\n",
      "By addressing these areas, the company can improve its financial health, mitigate potential risks, and capitalize on strategic opportunities to drive growth and profitability.\n"
     ]
    }
   ],
   "source": [
    "# AI-Powered Insights\n",
    "ai_powered_insights = analyzer.ai_powered_insights()\n",
    "print(\"\\nAI-Powered Insights:\")\n",
    "print(ai_powered_insights)"
   ]
  },
  {
   "cell_type": "code",
   "execution_count": 14,
   "id": "6252468d-319c-4d88-979b-7bfe8faf9ddf",
   "metadata": {},
   "outputs": [
    {
     "name": "stdout",
     "output_type": "stream",
     "text": [
      "Interactive Query:\n"
     ]
    },
    {
     "name": "stdin",
     "output_type": "stream",
     "text": [
      " how the company can improve its financial health?\n"
     ]
    },
    {
     "name": "stdout",
     "output_type": "stream",
     "text": [
      "i'm thinking...\n",
      "To provide a data-driven answer on how the company can improve its financial health, I'll analyze the provided data and identify trends, areas of concern, and potential opportunities for improvement.\n",
      "\n",
      "**Overall Financial Health**\n",
      "\n",
      "The data suggests that the company has a diverse range of services and projects across various industries. However, the overall financial performance is not explicitly stated in the data. To assess the company's financial health, I'll focus on the following metrics:\n",
      "\n",
      "1. **Revenue**: The total revenue is not provided, but we can estimate it by summing up the values of individual invoices.\n",
      "2. **Payment Terms**: The payment terms are not specified, which makes it difficult to determine the average collection period or days sales outstanding (DSO).\n",
      "3. **Days Sales Outstanding (DSO)**: DSO is a key metric that indicates how long it takes for customers to pay their bills. A higher DSO can indicate cash flow problems.\n",
      "4. **Payment Status**: The payment status is not explicitly stated, but we can infer from the invoice values and payment terms.\n",
      "\n",
      "**Analysis**\n",
      "\n",
      "Based on the data, here are some observations:\n",
      "\n",
      "1. **Revenue Distribution**: The revenue is concentrated in a few large invoices (e.g., INV-2024-010 with $8900.75). This suggests that the company may have a limited number of high-value clients or projects.\n",
      "2. **Payment Terms**: The payment terms are not specified, which makes it difficult to determine the average collection period or DSO.\n",
      "3. **DSO**: Although we can't calculate the exact DSO, the presence of overdue invoices (e.g., INV-2024-011 with $6780.25) suggests that the company may be experiencing cash flow problems.\n",
      "4. **Payment Status**: The payment status is not explicitly stated, but the presence of overdue invoices and varying invoice values suggest that some clients are paying on time, while others are delayed.\n",
      "\n",
      "**Recommendations**\n",
      "\n",
      "To improve its financial health, the company can consider the following strategies:\n",
      "\n",
      "1. **Diversify Revenue Streams**: Encourage more diverse revenue streams by taking on smaller projects or clients to reduce dependence on a few large invoices.\n",
      "2. **Improve Payment Terms**: Negotiate better payment terms with clients to reduce DSO and improve cash flow management.\n",
      "3. **Enhance Cash Flow Management**: Implement a more efficient cash flow management system, including early warning systems for overdue payments and proactive collection efforts.\n",
      "4. **Monitor and Analyze Invoices**: Regularly review invoices to identify trends, anomalies, or potential issues that can impact financial health.\n",
      "\n",
      "**Data-Driven Action Plan**\n",
      "\n",
      "To implement these recommendations, the company can:\n",
      "\n",
      "1. Develop a more detailed revenue forecast to identify areas of concentration and opportunities for diversification.\n",
      "2. Establish clear payment terms with clients and negotiate better rates when possible.\n",
      "3. Implement a cash flow management system using tools like QuickBooks or Xero to track payments, invoices, and cash flow.\n",
      "4. Regularly review invoices to identify trends, anomalies, or potential issues that can impact financial health.\n",
      "\n",
      "By implementing these strategies and monitoring their effectiveness, the company can improve its financial health, reduce DSO, and enhance overall cash flow management.\n"
     ]
    }
   ],
   "source": [
    "# Interactive query\n",
    "print(\"Interactive Query:\")\n",
    "question = input()\n",
    "print(\"i'm thinking...\")\n",
    "answer = analyzer.interactive_query(question)\n",
    "print(answer)"
   ]
  },
  {
   "cell_type": "code",
   "execution_count": null,
   "id": "89333cb9-9848-4551-8e47-d2ffc3319829",
   "metadata": {},
   "outputs": [],
   "source": []
  },
  {
   "cell_type": "code",
   "execution_count": null,
   "id": "dc9e0993-9445-4603-87dc-d341ac9e7d8d",
   "metadata": {},
   "outputs": [],
   "source": []
  }
 ],
 "metadata": {
  "kernelspec": {
   "display_name": "Python 3 (ipykernel)",
   "language": "python",
   "name": "python3"
  },
  "language_info": {
   "codemirror_mode": {
    "name": "ipython",
    "version": 3
   },
   "file_extension": ".py",
   "mimetype": "text/x-python",
   "name": "python",
   "nbconvert_exporter": "python",
   "pygments_lexer": "ipython3",
   "version": "3.11.7"
  }
 },
 "nbformat": 4,
 "nbformat_minor": 5
}
