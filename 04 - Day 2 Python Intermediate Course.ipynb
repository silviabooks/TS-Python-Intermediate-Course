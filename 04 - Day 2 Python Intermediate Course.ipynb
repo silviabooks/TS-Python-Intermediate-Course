{
 "cells": [
  {
   "cell_type": "markdown",
   "id": "445bdaa5-4e50-44c9-84df-02f7633046d9",
   "metadata": {},
   "source": [
    "**<h1><center>**Python Intermediate Course**</center></h1>**"
   ]
  },
  {
   "cell_type": "markdown",
   "id": "02654bc0-4d4c-40c8-affe-211e3c65999f",
   "metadata": {},
   "source": [
    "### Python Intermediate Course Schedule Day 2"
   ]
  },
  {
   "cell_type": "markdown",
   "id": "a26a6ffb-0338-4b52-b1c9-5acffece80e1",
   "metadata": {},
   "source": [
    "| Time          | Topic                               | Description                                                                                      |\n",
    "|---------------|-------------------------------------|--------------------------------------------------------------------------------------------------|\n",
    "| **9:30**      | Revisiting Object-Oriented Programming | Briefly revisit OOP: focus on practical class structures, inheritance, and custom methods.       |\n",
    "| **11:00**     | Break                              | Relax and recharge.                                                   |\n",
    "| **11:15**     | Lab Setup                          | Introduce the lab objective: Working with Python and Large Language Models (LLMs). Overview of the tools required. |\n",
    "| **11:45**     | Lab: Building an LLM Integration   | Hands-on lab to integrate an LLM with Python. Use APIs (e.g., OpenAI or Hugging Face) to query models and process responses. |\n",
    "| **12:45**     | Lab Wrap-Up and Discussion         | Present and discuss lab outcomes. Troubleshoot challenges and summarize key takeaways.           |"
   ]
  },
  {
   "cell_type": "markdown",
   "id": "50e5da81-c6ea-493f-a754-684a6b505d71",
   "metadata": {},
   "source": [
    "# **1. Object-Oriented Programming (OOP)**\n",
    "**9:30** | What is Object-Oriented Programming?"
   ]
  },
  {
   "cell_type": "markdown",
   "id": "915ca3ae-e437-4ec3-86a9-b912894e1a7f",
   "metadata": {},
   "source": [
    "### **Definition of OOP**"
   ]
  },
  {
   "cell_type": "markdown",
   "id": "b3db5e7f-76cb-4302-83b0-b0dc213d2054",
   "metadata": {
    "jp-MarkdownHeadingCollapsed": true
   },
   "source": [
    "Object-Oriented Programming (OOP) is a programming paradigm that organizes software design around **objects**, which are instances of **classes**. Objects bundle together:\n",
    "\n",
    "- **Data** (attributes or properties)  \n",
    "- **Behavior** (methods or functions tied to the object)\n",
    "\n",
    "OOP is designed to mirror how real-world entities work. For example, a \"Car\" object might have:\n",
    "\n",
    "- Attributes: `color`, `make`, `model`, `speed`\n",
    "- Methods: `start_engine()`, `accelerate()`, `stop()`\n",
    "\n",
    "This approach makes it easier to design, develop, and maintain complex systems.\n",
    "\n",
    "---"
   ]
  },
  {
   "cell_type": "markdown",
   "id": "7d739ea9-9f6a-4ff1-99dc-4e8907cafe9e",
   "metadata": {},
   "source": [
    "#### **Importance of OOP in Modern Programming**\n",
    "\n",
    "OOP is widely used in modern programming for several reasons:\n",
    "\n",
    "- **Scalability**: Promotes modularity, allowing projects to grow without becoming unmanageable.\n",
    "- **Reusability**: Code can be reused through classes, inheritance, and methods.\n",
    "- **Maintainability**: Encapsulation makes it easier to fix bugs or update features without affecting the entire system.\n",
    "- **Real-world Modeling**: Represents real-world concepts naturally, improving collaboration between developers and stakeholders.\n",
    "\n",
    "#### **Examples of OOP in Action**:\n",
    "- **Applications**: Games, web frameworks, data processing systems.\n",
    "- **Languages**: Python, Java, C++, Ruby, and more."
   ]
  },
  {
   "cell_type": "markdown",
   "id": "38df6215-2070-47f7-b7d7-a4d16083ff90",
   "metadata": {},
   "source": [
    "## **1.1. Class and Objects in Python**"
   ]
  },
  {
   "cell_type": "markdown",
   "id": "a9228ad4-d3fa-4819-b2d5-e1932ed14dba",
   "metadata": {},
   "source": [
    "### **1.1.1. Class: Blueprint for Objects**"
   ]
  },
  {
   "cell_type": "markdown",
   "id": "42ee59ce-2d26-4191-b854-00c4006d151d",
   "metadata": {
    "jp-MarkdownHeadingCollapsed": true
   },
   "source": [
    "A **class** is a template or blueprint that defines the structure and behavior (methods) of objects. It specifies what attributes (data) and methods (functions) the objects will have but doesn’t create the objects themselves.\n",
    "\n",
    "**Example**:\n",
    "```python\n",
    "class Car:\n",
    "    def __init__(self, make, model):\n",
    "        self.make = make\n",
    "        self.model = model"
   ]
  },
  {
   "cell_type": "markdown",
   "id": "da5c768a-6132-4a61-aca6-fa3f2a4f412a",
   "metadata": {},
   "source": [
    "### **1.1.2. Object: Instance of a Class**"
   ]
  },
  {
   "cell_type": "markdown",
   "id": "dc2b439b-cbbd-403d-9a86-4d756ea5efb3",
   "metadata": {
    "jp-MarkdownHeadingCollapsed": true
   },
   "source": [
    "An **object** is a specific instance of a class. It is created when a class is instantiated, meaning the class acts as a blueprint, and the object is the actual implementation. Each object has its own set of data (attributes) and can perform actions (methods) as defined in its class.\n",
    "\n",
    "Objects allow you to work with the structure and behavior defined by the class while maintaining unique instances.\n",
    "\n",
    "**Key Points**:\n",
    "- Objects are **instances** of a class.\n",
    "- Each object can have its own unique values for the attributes defined in the class.\n",
    "- Methods defined in the class can be used by each object.\n",
    "\n",
    "**Example**:\n",
    "```python\n",
    "class Car:\n",
    "    def __init__(self, make, model):\n",
    "        self.make = make\n",
    "        self.model = model\n",
    "\n",
    "# Creating objects (instances of the class Car)\n",
    "my_car = Car(\"Toyota\", \"Corolla\")\n",
    "your_car = Car(\"Honda\", \"Civic\")\n",
    "```\n",
    "\n",
    "**Note:** Naming convention."
   ]
  },
  {
   "cell_type": "markdown",
   "id": "aa2b28de-7614-4ef0-9bf5-4f359bd5f450",
   "metadata": {},
   "source": [
    "![title](imgs/class-instance.png)"
   ]
  },
  {
   "cell_type": "code",
   "execution_count": null,
   "id": "131198ac-e87a-4023-b9e4-28ac9f91029e",
   "metadata": {},
   "outputs": [],
   "source": [
    "# Create a class named Car, with a property named make and model:\n",
    "class Car:\n",
    "    def __init__(self, make, model):\n",
    "        self.make = make\n",
    "        self.model = model"
   ]
  },
  {
   "cell_type": "code",
   "execution_count": null,
   "id": "5121482f-9099-453b-afce-9b5a60300d86",
   "metadata": {},
   "outputs": [],
   "source": [
    "# Create an object named my_car:\n",
    "my_car = Car(\"Toyota\", \"Corolla\")"
   ]
  },
  {
   "cell_type": "markdown",
   "id": "ff32459c-36b0-4c22-a346-11b3ed1ed282",
   "metadata": {},
   "source": [
    "When you create a new object of a class, Python automatically calls the __init__() method to initialize the object’s attributes\n",
    "and performs two things:\n",
    "\n",
    "1. First, create a new instance of the Person class by setting the object’s namespace such as __dict__ attribute to empty ({}).\n",
    "2. Second, call the __init__ method to initialize the attributes of the newly created object.\n",
    "\n",
    "**Note**: \n",
    "- The double underscores at both sides of the __init__() method indicate that Python will use the method internally. In other words, you should not explicitly call this method.\n",
    "- The __init__ method doesn’t create the object but only initializes the object’s attributes. Hence, the __init__() is not a constructor.\n",
    "- If the __init__ has parameters other than the self, you need to pass the corresponding arguments when creating a new object like the example above. Otherwise, you’ll get an error."
   ]
  },
  {
   "cell_type": "code",
   "execution_count": null,
   "id": "529b68c6-9cf7-45bc-89b5-15dba076097c",
   "metadata": {},
   "outputs": [],
   "source": [
    "# Instantiate a second object\n",
    "your_car = Car(\"Honda\", \"Civic\")\n",
    "\n",
    "# Accessing object attributes\n",
    "# my_car and your_car are objects (or instances) of the class Car.\n",
    "# Each object has unique data for make and model.\n",
    "print(my_car.make)\n",
    "print(your_car.make)"
   ]
  },
  {
   "cell_type": "markdown",
   "id": "0ca91dcc-0f6a-4ecb-97e0-a95a6b9cc648",
   "metadata": {},
   "source": [
    "## **1.2. Python class and instance variables**"
   ]
  },
  {
   "cell_type": "markdown",
   "id": "93bfc313-36c7-40b5-9cdb-b12b46c6cde0",
   "metadata": {},
   "source": [
    "### Class variables"
   ]
  },
  {
   "cell_type": "markdown",
   "id": "3e8c51eb-5f85-4e5f-97f7-8adb1a3a96e3",
   "metadata": {},
   "source": [
    "Everything in Python is an object including a class. In other words, a class is an object in Python.\n",
    "\n",
    "When you define a class using the **class** keyword, Python creates an object with the name the same as the class’s name. For example:"
   ]
  },
  {
   "cell_type": "code",
   "execution_count": null,
   "id": "51bb8d89-b794-476d-973d-e6c62a066ba2",
   "metadata": {},
   "outputs": [],
   "source": [
    "class HtmlDocument:\n",
    "    pass"
   ]
  },
  {
   "cell_type": "code",
   "execution_count": null,
   "id": "fbcd06cc-b893-4243-9da4-95cd3b8de6a9",
   "metadata": {},
   "outputs": [],
   "source": [
    "# The __name__ property of the HtmlDocument object:\n",
    "print(HtmlDocument.__name__) # HtmlDocument"
   ]
  },
  {
   "cell_type": "code",
   "execution_count": null,
   "id": "47088708-49ee-468f-95c4-52cf7ffcb293",
   "metadata": {
    "scrolled": true
   },
   "outputs": [],
   "source": [
    "dir(HtmlDocument)"
   ]
  },
  {
   "cell_type": "markdown",
   "id": "f35d1b3a-5bad-4a8c-a6f9-091858ca2a16",
   "metadata": {},
   "source": [
    "Class variables are bound to the class. They’re shared by all instances of that class.\n",
    "\n",
    "The following example adds the extension and version class variables to the HtmlDocument class:"
   ]
  },
  {
   "cell_type": "code",
   "execution_count": null,
   "id": "e42301b0-1f0c-4b5d-a67f-daa83f03795d",
   "metadata": {},
   "outputs": [],
   "source": [
    "class HtmlDocument:\n",
    "    extension = 'html'\n",
    "    version = '5'"
   ]
  },
  {
   "cell_type": "markdown",
   "id": "f4401c4d-13a4-49ad-871e-a0d7fb4d4a00",
   "metadata": {},
   "source": [
    "### Get the values of class variables"
   ]
  },
  {
   "cell_type": "code",
   "execution_count": null,
   "id": "8ca42e07-0c6a-45e9-a18a-9e979130ce00",
   "metadata": {},
   "outputs": [],
   "source": [
    "print(HtmlDocument.extension) # html\n",
    "print(HtmlDocument.version) # 5"
   ]
  },
  {
   "cell_type": "code",
   "execution_count": null,
   "id": "eb0f2cfa-db81-470e-8506-6408af4e1a20",
   "metadata": {},
   "outputs": [],
   "source": [
    "HtmlDocument.media_type"
   ]
  },
  {
   "cell_type": "markdown",
   "id": "49bf1592-2b5e-49a1-b8a2-fb1472e1ab91",
   "metadata": {},
   "source": [
    "Another way to get the value of a class variable is to use the **getattr()** function. The getattr() function accepts an object and a variable name. It returns the value of the class variable. For example:"
   ]
  },
  {
   "cell_type": "code",
   "execution_count": null,
   "id": "a65acbab-0b48-4e45-843e-64d76d630057",
   "metadata": {},
   "outputs": [],
   "source": [
    "extension = getattr(HtmlDocument, 'extension')\n",
    "version = getattr(HtmlDocument, 'version')\n",
    "\n",
    "print(extension)  # html\n",
    "print(version)  # 5"
   ]
  },
  {
   "cell_type": "markdown",
   "id": "fa1c2a50-9d36-4594-a1a7-9abde36d9202",
   "metadata": {},
   "source": [
    "### Instance variables\n",
    "\n",
    "In Python, class variables are bound to a class while instance variables are bound to a specific instance of a class. The instance variables are also called instance attributes.\n",
    "\n",
    "The following creates a new **instance** of the HtmlDocument class:"
   ]
  },
  {
   "cell_type": "code",
   "execution_count": null,
   "id": "0c939e57-12a9-4296-a736-dd800fafa36c",
   "metadata": {},
   "outputs": [],
   "source": [
    "home = HtmlDocument()"
   ]
  },
  {
   "cell_type": "markdown",
   "id": "56e736a3-1967-4f4b-a5e7-ad77f6c97935",
   "metadata": {},
   "source": [
    "Python allows you to access the class variables from an instance of a class. For example:"
   ]
  },
  {
   "cell_type": "code",
   "execution_count": null,
   "id": "d7e5ab41-a899-4438-af2f-7d6db6a740a3",
   "metadata": {},
   "outputs": [],
   "source": [
    "print(home.extension)\n",
    "print(home.version)"
   ]
  },
  {
   "cell_type": "markdown",
   "id": "9d8e41f8-2d24-454c-a6f6-c6d82bf3d3ea",
   "metadata": {},
   "source": [
    "In this case, Python looks up the variables extension and version in home. If it doesn’t find them there, it’ll go up to the class and look up in the HtmlDocument.\n",
    "\n",
    "However, if Python can find the variables in the instance, it won’t look further in the class.\n",
    "\n",
    "The following defines the version variable in the home object:"
   ]
  },
  {
   "cell_type": "code",
   "execution_count": null,
   "id": "c85ba7a7-b95e-4148-b090-ea661ca0ffe8",
   "metadata": {},
   "outputs": [],
   "source": [
    "home.version = 6"
   ]
  },
  {
   "cell_type": "code",
   "execution_count": null,
   "id": "35155c4d-528e-4398-b25f-722cce2c4350",
   "metadata": {},
   "outputs": [],
   "source": [
    "print(home.__dict__)"
   ]
  },
  {
   "cell_type": "code",
   "execution_count": null,
   "id": "46b35d1f-d638-4119-87f9-1d5dedb3c289",
   "metadata": {},
   "outputs": [],
   "source": [
    "# Remember:\n",
    "HtmlDocument.version"
   ]
  },
  {
   "cell_type": "markdown",
   "id": "9db25b36-9b59-488f-99cf-aeb96bf0a331",
   "metadata": {},
   "source": [
    "If you change the class variables, these changes also reflect in the instances of the class:"
   ]
  },
  {
   "cell_type": "code",
   "execution_count": null,
   "id": "b401c976-b501-4a78-87be-73709ca4207a",
   "metadata": {},
   "outputs": [],
   "source": [
    "HtmlDocument.version = 8\n",
    "print(home.version)"
   ]
  },
  {
   "cell_type": "code",
   "execution_count": null,
   "id": "ecaa0ad3-65d7-46bb-8976-3ccfcc3319be",
   "metadata": {},
   "outputs": [],
   "source": [
    "id(HtmlDocument)"
   ]
  },
  {
   "cell_type": "code",
   "execution_count": null,
   "id": "d513f2d6-7794-402f-894b-3012d0060f29",
   "metadata": {},
   "outputs": [],
   "source": [
    "id(home)"
   ]
  },
  {
   "cell_type": "code",
   "execution_count": null,
   "id": "ee420253-f668-4fdb-9607-3d9a97dbc57f",
   "metadata": {},
   "outputs": [],
   "source": []
  },
  {
   "cell_type": "markdown",
   "id": "d5856c37-8c44-4e8c-b039-f51fb50f6760",
   "metadata": {},
   "source": [
    "### Initializing instance variables\n",
    "In practice, you initialize instance variables for all instances of a class in the __init__ method.\n",
    "\n",
    "For example, the following redefines the HtmlDocument class that has two instance variables name and contents"
   ]
  },
  {
   "cell_type": "code",
   "execution_count": null,
   "id": "38d39a26-b8b4-4d39-9e72-4b81fafc19e7",
   "metadata": {},
   "outputs": [],
   "source": [
    "class HtmlDocument:\n",
    "    version = 5\n",
    "    extension = 'html'\n",
    "\n",
    "    def __init__(self, name, contents):\n",
    "        self.name = name\n",
    "        self.contents = contents"
   ]
  },
  {
   "cell_type": "code",
   "execution_count": null,
   "id": "e85fd180-3179-4b45-9d7d-3ca89ea53d14",
   "metadata": {},
   "outputs": [],
   "source": [
    "# When creating a new instance of the HtmlDocument, you need to pass the corresponding arguments like this:\n",
    "\n",
    "blank = HtmlDocument('Blank', '')"
   ]
  },
  {
   "cell_type": "code",
   "execution_count": null,
   "id": "81220ae6-e981-403b-99d5-b61d69f7789f",
   "metadata": {},
   "outputs": [],
   "source": [
    "blank.version"
   ]
  },
  {
   "cell_type": "code",
   "execution_count": null,
   "id": "b8c5472b-4c48-4405-8f6c-7931a70bad2f",
   "metadata": {},
   "outputs": [],
   "source": [
    "blank.name"
   ]
  },
  {
   "cell_type": "code",
   "execution_count": null,
   "id": "2d9f3392-fd65-4df3-aa24-7779e17c8e3b",
   "metadata": {},
   "outputs": [],
   "source": [
    "HtmlDocument.version"
   ]
  },
  {
   "cell_type": "code",
   "execution_count": null,
   "id": "d89eb2f8-b6fe-49f8-aadc-e3bdc32d11ef",
   "metadata": {},
   "outputs": [],
   "source": [
    "home = HtmlDocument('Home', '')"
   ]
  },
  {
   "cell_type": "code",
   "execution_count": null,
   "id": "981a81c2-700d-4e5b-b369-60cbdd852820",
   "metadata": {},
   "outputs": [],
   "source": [
    "home.version"
   ]
  },
  {
   "cell_type": "code",
   "execution_count": null,
   "id": "8b181894-af66-4076-b5b7-02d9904b3fc6",
   "metadata": {},
   "outputs": [],
   "source": [
    "home.contents = 'ciao'"
   ]
  },
  {
   "cell_type": "code",
   "execution_count": null,
   "id": "79d83baf-098c-419e-bfd4-02aa0b2d9a25",
   "metadata": {},
   "outputs": [],
   "source": [
    "home.contents"
   ]
  },
  {
   "cell_type": "markdown",
   "id": "b65b91cd-02ea-4a82-a711-730b3fd08c6d",
   "metadata": {},
   "source": [
    "## Exercises"
   ]
  },
  {
   "cell_type": "markdown",
   "id": "9c0feda5-c613-48b3-b9a8-4ae18bfee4fb",
   "metadata": {},
   "source": [
    "**Exercise 1.1: Class and Instance Attributes**\n",
    "\n",
    "1. Create a class called `Person` with the following attributes:\n",
    "   - `name`: A string representing the name of the person.\n",
    "   - `age`: An integer representing the person's age.\n",
    "   - `city`: A string representing the city where the person lives.\n",
    "\n",
    "2. Create an instance of the `Person` class with:\n",
    "    - Name: `\"Alice\"`\n",
    "    - Age: `30`\n",
    "    - City: `\"Campobasso\"`\n",
    "\n",
    "3. Access the `name` and `city` attributes of the instance and print them.\n",
    "\n",
    "4. Modify the `age` attribute of the instance to `31` and print the new value."
   ]
  },
  {
   "cell_type": "code",
   "execution_count": null,
   "id": "6496d9ae-8ee9-44ad-bc51-8b5b0eb175da",
   "metadata": {},
   "outputs": [],
   "source": [
    "# Solution 1.1\n",
    "\n",
    "# Step 1: Define the Person class with attributes and a method\n",
    "class Person:\n",
    " def __init__(self, name, age, city):\n",
    "     self.name = name\n",
    "     self.age = age\n",
    "     self.city = city\n",
    "\n",
    "# Step 2: Create an instance of the Person class\n",
    "person1 = Person(\"Alice\", 30, \"Campobasso\")\n",
    "\n",
    "# Step 3: Access and print the name and city attributes\n",
    "print(f\"Name: {person1.name}\")  # Outputs: Alice\n",
    "print(f\"City: {person1.city}\")  # Outputs: New York\n",
    "\n",
    "# Step 4: Modify the age attribute\n",
    "person1.age = 31\n",
    "print(f\"Age: {person1.age}\")"
   ]
  },
  {
   "cell_type": "markdown",
   "id": "8ff6f957-2c94-4fce-aade-e005cbf2c521",
   "metadata": {},
   "source": [
    "## **1.3. Methods**"
   ]
  },
  {
   "cell_type": "markdown",
   "id": "0e5e7100-99d3-4a88-a909-73adbdfb7659",
   "metadata": {},
   "source": [
    "By definition, a method is a function that is bound to an instance of a class. In Python, classes and objects work together to model real-world entities. Functions inside a class can be categorized into two types: **instance functions** and **class functions**. These serve different purposes but are integral to how classes operate."
   ]
  },
  {
   "cell_type": "markdown",
   "id": "bf797202-9f01-4806-a9ee-1671ca0d7246",
   "metadata": {},
   "source": [
    "### Instance Functions\n",
    "\n",
    "Instance functions are functions defined inside a class that operate on **instance-level data**. These functions require an object (or instance) to be invoked and can access or modify the instance's attributes.\n",
    "\n",
    "**Key Characteristics**\n",
    "- Always take `self` as the first parameter, representing the instance calling the method.\n",
    "- Can access and modify instance attributes using `self`.\n",
    "- Typically used for behaviors tied to individual objects."
   ]
  },
  {
   "cell_type": "code",
   "execution_count": 3,
   "id": "265d4ea8-af57-4f35-9495-6a2326c8aa47",
   "metadata": {},
   "outputs": [],
   "source": [
    "# Example 4.1\n",
    "class Car:\n",
    "    def __init__(self, make, model):\n",
    "        self.make = make\n",
    "        self.model = model\n",
    "\n",
    "    def display_info(self):\n",
    "        return f\"This car is a {self.make} {self.model}.\""
   ]
  },
  {
   "cell_type": "code",
   "execution_count": null,
   "id": "b2d43db8-b8f1-4ab4-b3b9-d79b091118fc",
   "metadata": {},
   "outputs": [],
   "source": [
    "    @staticmethod\n",
    "    def display_info():\n",
    "        return f\"This car is a Fiat.\""
   ]
  },
  {
   "cell_type": "code",
   "execution_count": 4,
   "id": "c4672b86-9d56-4871-95df-c480ce5ed108",
   "metadata": {},
   "outputs": [
    {
     "name": "stdout",
     "output_type": "stream",
     "text": [
      "This car is a Toyota Corolla.\n"
     ]
    }
   ],
   "source": [
    "# Creating an object\n",
    "my_car = Car(\"Toyota\", \"Corolla\")\n",
    "\n",
    "# Calling an instance function\n",
    "print(my_car.display_info())  # Output: This car is a Toyota Corolla."
   ]
  },
  {
   "cell_type": "code",
   "execution_count": 5,
   "id": "3669d73b-0bd9-4644-99fa-6d6e145bbe3e",
   "metadata": {},
   "outputs": [
    {
     "data": {
      "text/plain": [
       "'Toyota'"
      ]
     },
     "execution_count": 5,
     "metadata": {},
     "output_type": "execute_result"
    }
   ],
   "source": [
    "my_car.make"
   ]
  },
  {
   "cell_type": "markdown",
   "id": "a365d564-1dc8-4305-8b74-1d6dd20bac4b",
   "metadata": {},
   "source": [
    "### Class Functions\n",
    "\n",
    "Class functions are functions that operate at the class level, meaning they do not depend on any particular instance of the class. These functions are defined using the @classmethod decorator.\n",
    "    \n",
    "**Key Characteristics**\n",
    "- Use cls as the first parameter, representing the class itself.\n",
    "- Can access or modify class-level attributes shared by all instances."
   ]
  },
  {
   "cell_type": "code",
   "execution_count": 6,
   "id": "eac913ba-da1d-434f-8c18-08ca5c049d1d",
   "metadata": {},
   "outputs": [
    {
     "name": "stdout",
     "output_type": "stream",
     "text": [
      "All cars have 4 wheels.\n"
     ]
    }
   ],
   "source": [
    "class Car:\n",
    "    num_wheels = 4  # Class attribute\n",
    "\n",
    "    @classmethod\n",
    "    def wheel_info(cls):\n",
    "        return f\"All cars have {cls.num_wheels} wheels.\"\n",
    "\n",
    "# Calling a class function without creating an instance\n",
    "print(Car.wheel_info())  # Output: All cars have 4 wheels."
   ]
  },
  {
   "cell_type": "markdown",
   "id": "3d06b1b3-9175-40bc-a2aa-b772a7b63f9d",
   "metadata": {},
   "source": [
    "### Comparing Instance and Class Functions\n",
    "\n",
    "| **Feature**            | **Instance Function**            | **Class Function**               |\n",
    "|-------------------------|-----------------------------------|-----------------------------------|\n",
    "| **First Parameter**     | `self` (instance)               | `cls` (class)                    |\n",
    "| **Access to Instance**  | Yes                             | No                               |\n",
    "| **Access to Class**     | Yes                             | Yes                              |\n",
    "| **Usage**               | Operates on instance attributes | Operates on class-level data     |\n",
    "\n",
    "---\n",
    "\n",
    "**Real-World Analogy**\n",
    "\n",
    "- **Instance Function**: Think of an individual employee accessing their personal work data (specific to them).\n",
    "- **Class Function**: Think of the HR department accessing policies applicable to all employees.\n"
   ]
  },
  {
   "cell_type": "code",
   "execution_count": 8,
   "id": "7b82cb4e-ec0a-4968-8de7-4008932c02ec",
   "metadata": {},
   "outputs": [],
   "source": [
    "# Example: Class Method vs Instance Method\n",
    "\n",
    "class Employee:\n",
    "    company_name = \"TS\"  # Class-level attribute\n",
    "    company_address = \"via ..\"  # Class-level attribute\n",
    "\n",
    "    def __init__(self, name, age, address):\n",
    "        self.name = name  # Instance-level attribute\n",
    "        self.age = age    # Instance-level attribute\n",
    "        self.address = address\n",
    "\n",
    "    # Instance method\n",
    "    def display_details(self):\n",
    "        return f\"Name: {self.name}, Age: {self.age}, Company: {Employee.company_name}\"\n",
    "\n",
    "    # Class method\n",
    "    @classmethod\n",
    "    def company_info(cls):\n",
    "        # Cannot access self.name or self.age because they belong to the instance\n",
    "        return f\"Company Name: {cls.company_name}\""
   ]
  },
  {
   "cell_type": "code",
   "execution_count": 10,
   "id": "3f0d9456-012d-4db5-849d-4e39b9b3e435",
   "metadata": {},
   "outputs": [
    {
     "name": "stdout",
     "output_type": "stream",
     "text": [
      "Company Name: TS\n"
     ]
    }
   ],
   "source": [
    "# Call class method\n",
    "print(Employee.company_info())  # Accesses only class-level data"
   ]
  },
  {
   "cell_type": "code",
   "execution_count": 12,
   "id": "190ff76e-c6d0-4f53-a9c6-41e0b6c13db0",
   "metadata": {},
   "outputs": [
    {
     "data": {
      "text/plain": [
       "'TS'"
      ]
     },
     "execution_count": 12,
     "metadata": {},
     "output_type": "execute_result"
    }
   ],
   "source": [
    "Employee.company_name"
   ]
  },
  {
   "cell_type": "code",
   "execution_count": 9,
   "id": "99928c2b-295a-4364-b264-cf4ed5deebb9",
   "metadata": {},
   "outputs": [],
   "source": [
    "# Create an instance of Employee\n",
    "alice = Employee(\"Alice\", 30)"
   ]
  },
  {
   "cell_type": "code",
   "execution_count": 11,
   "id": "aa9e9154-f4af-4b1c-a494-f1d8c51476f5",
   "metadata": {},
   "outputs": [
    {
     "name": "stdout",
     "output_type": "stream",
     "text": [
      "Name: Alice, Age: 30, Company: TS\n"
     ]
    }
   ],
   "source": [
    "# Call instance method\n",
    "print(alice.display_details())  # Accesses instance and class-level data"
   ]
  },
  {
   "cell_type": "markdown",
   "id": "2dcbdc66-49f1-4fe4-9b32-f330c5b10a80",
   "metadata": {
    "jp-MarkdownHeadingCollapsed": true
   },
   "source": [
    "## Instance Functions\n",
    "\n",
    "Instance functions are functions defined inside a class that operate on **instance-level data**. These functions require an object (or instance) to be invoked and can access or modify the instance's attributes.\n",
    "\n",
    "**Key Characteristics**\n",
    "- Always take `self` as the first parameter, representing the instance calling the method.\n",
    "- Can access and modify instance attributes using `self`.\n",
    "- Typically used for behaviors tied to individual objects."
   ]
  },
  {
   "cell_type": "code",
   "execution_count": null,
   "id": "a3b5706f-fa81-4dfc-bd54-ac0ea21be319",
   "metadata": {},
   "outputs": [],
   "source": [
    "# Example 4.1\n",
    "class Car:\n",
    "    def __init__(self, make, model):\n",
    "        self.make = make\n",
    "        self.model = model\n",
    "\n",
    "    def display_info(self):\n",
    "        return f\"This car is a {self.make} {self.model}.\"\n",
    "\n",
    "    @staticmethod\n",
    "    def display_info():\n",
    "        return f\"This car is a Fiat.\""
   ]
  },
  {
   "cell_type": "code",
   "execution_count": null,
   "id": "eb18d7a2-f18c-4944-b814-b57c8e3c9598",
   "metadata": {},
   "outputs": [],
   "source": [
    "# Creating an object\n",
    "my_car = Car(\"Toyota\", \"Corolla\")\n",
    "\n",
    "# Calling an instance function\n",
    "print(my_car.display_info())  # Output: This car is a Toyota Corolla."
   ]
  },
  {
   "cell_type": "code",
   "execution_count": null,
   "id": "5e3e8263-975c-408e-91a5-1078539e73ee",
   "metadata": {},
   "outputs": [],
   "source": [
    "Car.display_info(my_car)"
   ]
  },
  {
   "cell_type": "markdown",
   "id": "b128f45a-a5bd-418c-9ec7-0a692de4e26f",
   "metadata": {
    "jp-MarkdownHeadingCollapsed": true
   },
   "source": [
    "## Class Functions\n",
    "\n",
    "Class functions are functions that operate at the class level, meaning they do not depend on any particular instance of the class. These functions are defined using the @classmethod decorator.\n",
    "    \n",
    "**Key Characteristics**\n",
    "- Use cls as the first parameter, representing the class itself.\n",
    "- Can access or modify class-level attributes shared by all instances."
   ]
  },
  {
   "cell_type": "code",
   "execution_count": null,
   "id": "c94b2a7a-72a3-4f8e-84af-b7793822f641",
   "metadata": {},
   "outputs": [],
   "source": [
    "class Car:\n",
    "    num_wheels = 4  # Class attribute\n",
    "\n",
    "    @classmethod\n",
    "    def wheel_info(cls):\n",
    "        return f\"All cars have {cls.num_wheels} wheels.\"\n",
    "\n",
    "# Calling a class function without creating an instance\n",
    "print(Car.wheel_info())  # Output: All cars have 4 wheels."
   ]
  },
  {
   "cell_type": "markdown",
   "id": "2a8524b9-7d5c-4e85-b1ea-a62666580cd3",
   "metadata": {},
   "source": [
    "## Comparing Instance and Class Functions\n",
    "\n",
    "| **Feature**            | **Instance Function**            | **Class Function**               |\n",
    "|-------------------------|-----------------------------------|-----------------------------------|\n",
    "| **First Parameter**     | `self` (instance)               | `cls` (class)                    |\n",
    "| **Access to Instance**  | Yes                             | No                               |\n",
    "| **Access to Class**     | Yes                             | Yes                              |\n",
    "| **Usage**               | Operates on instance attributes | Operates on class-level data     |\n",
    "\n",
    "---\n",
    "\n",
    "**Real-World Analogy**\n",
    "\n",
    "- **Instance Function**: Think of an individual employee accessing their personal work data (specific to them).\n",
    "- **Class Function**: Think of the HR department accessing policies applicable to all employees.\n"
   ]
  },
  {
   "cell_type": "code",
   "execution_count": null,
   "id": "eb2e1191-9edf-40cd-86f9-f3847a7522f6",
   "metadata": {},
   "outputs": [],
   "source": [
    "# Example: Class Method vs Instance Method\n",
    "\n",
    "class Employee:\n",
    "    company_name = \"TS\"  # Class-level attribute\n",
    "\n",
    "    def __init__(self, name, age):\n",
    "        self.name = name  # Instance-level attribute\n",
    "        self.age = age    # Instance-level attribute\n",
    "\n",
    "    # Instance method\n",
    "    def display_details(self):\n",
    "        return f\"Name: {self.name}, Age: {self.age}, Company: {Employee.company_name}\"\n",
    "\n",
    "    # Class method\n",
    "    @classmethod\n",
    "    def company_info(cls):\n",
    "        # Cannot access self.name or self.age because they belong to the instance\n",
    "        return f\"Company Name: {cls.company_name}\""
   ]
  },
  {
   "cell_type": "code",
   "execution_count": null,
   "id": "bdf1b0a8-ecdd-48f9-9171-7c8d840e6ddf",
   "metadata": {},
   "outputs": [],
   "source": [
    "# Create an instance of Employee\n",
    "alice = Employee(\"Alice\", 30)\n",
    "\n",
    "# Call instance method\n",
    "print(alice.display_details())  # Accesses instance and class-level data\n",
    "\n",
    "# Call class method\n",
    "print(Employee.company_info())  # Accesses only class-level data"
   ]
  },
  {
   "cell_type": "code",
   "execution_count": null,
   "id": "d9ad7329-1dc1-45fd-aa4a-6a4c0f3d8606",
   "metadata": {},
   "outputs": [],
   "source": [
    "alice.company_info()"
   ]
  },
  {
   "cell_type": "code",
   "execution_count": null,
   "id": "c7b8f05c-4179-4d13-bb7d-81a20f748fd0",
   "metadata": {},
   "outputs": [],
   "source": [
    "Employee.display_details()"
   ]
  },
  {
   "cell_type": "markdown",
   "id": "4d9ccabb-4ad6-47b2-a964-a309a5b07e7e",
   "metadata": {},
   "source": [
    "**Explanation:**\n",
    "\n",
    "1. Instance Method (display_details):\n",
    "    - Can access both instance attributes (name, age) and class attributes (company_name).\n",
    "    - Uses self to refer to the instance.\n",
    "\n",
    "2. Class Method (company_info):\n",
    "    - Can only access class attributes (company_name).\n",
    "    - Uses cls to refer to the class.\n",
    "    - Cannot access name or age because they are instance-specific attributes."
   ]
  },
  {
   "cell_type": "markdown",
   "id": "2278ca02-7206-41d1-bfc7-5c8ab73829b4",
   "metadata": {},
   "source": [
    "## **1.4. Core Principles of OOP**"
   ]
  },
  {
   "cell_type": "markdown",
   "id": "17052791-2b45-48e6-a0b1-804d8d6b3911",
   "metadata": {},
   "source": [
    "#### **Encapsulation (Incapsulamento)**"
   ]
  },
  {
   "cell_type": "markdown",
   "id": "82faba2b-05f7-4765-812d-e41e59fc5368",
   "metadata": {},
   "source": [
    "Encapsulation is the bundling of data and methods that operate on the data into a single unit (class). It helps:\n",
    "\n",
    "- Protect data from unauthorized access.\n",
    "- Ensure controlled interaction via methods.\n",
    "\n",
    "Example:\n",
    "```python\n",
    "class Car:\n",
    "    def __init__(self, make, model):\n",
    "        self.make = make  # Public attribute\n",
    "        self.__speed = 0  # Private attribute (double underscore)\n",
    "\n",
    "    def accelerate(self, increment):\n",
    "        self.__speed += increment  # Access via method\n",
    "\n",
    "    def get_speed(self):\n",
    "        return self.__speed\n",
    "\n",
    "my_car = Car(\"Toyota\", \"Corolla\")\n",
    "my_car.accelerate(10)\n",
    "print(my_car.get_speed())  # Outputs: 10"
   ]
  },
  {
   "cell_type": "code",
   "execution_count": 21,
   "id": "cef75c43-8d32-496d-9254-b29c8d14e1a5",
   "metadata": {},
   "outputs": [],
   "source": [
    "class Car:\n",
    "    def __init__(self, make, model):\n",
    "        self.make = make  # Public attribute\n",
    "        self.__speed = 0  # Private attribute (double underscore)\n",
    "\n",
    "    def accelerate(self, increment):\n",
    "        self.__speed += increment  # Access via method\n",
    "\n",
    "    def get_speed(self):\n",
    "        return self.__speed\n"
   ]
  },
  {
   "cell_type": "code",
   "execution_count": 22,
   "id": "304c1e6f-550d-41ce-a504-8ab7391ed7bb",
   "metadata": {},
   "outputs": [
    {
     "name": "stdout",
     "output_type": "stream",
     "text": [
      "10\n"
     ]
    }
   ],
   "source": [
    "my_car = Car(\"Toyota\", \"Corolla\")\n",
    "my_car.accelerate(10)\n",
    "print(my_car.get_speed())  # Outputs: 10"
   ]
  },
  {
   "cell_type": "code",
   "execution_count": 25,
   "id": "f3ffbb87-9b49-437c-a3d0-883654ecd1f1",
   "metadata": {},
   "outputs": [
    {
     "data": {
      "text/plain": [
       "10"
      ]
     },
     "execution_count": 25,
     "metadata": {},
     "output_type": "execute_result"
    }
   ],
   "source": [
    "my_car._Car__speed"
   ]
  },
  {
   "cell_type": "markdown",
   "id": "4b4692aa-309e-487a-be3d-ee36a54af32b",
   "metadata": {},
   "source": [
    "#### **Inheritance (Ereditarietà)**"
   ]
  },
  {
   "cell_type": "markdown",
   "id": "e3a8937f-44e5-4f40-b7d4-fa8d091310a8",
   "metadata": {},
   "source": [
    "Inheritance allows a class (child) to derive properties and methods from another class (parent), promoting reusability.\n",
    "\n",
    "- Protect data from unauthorized access.\n",
    "- Ensure controlled interaction via methods.\n",
    "\n",
    "Example:\n",
    "```python\n",
    "class Vehicle:\n",
    "    def __init__(self, type):\n",
    "        self.type = type\n",
    "\n",
    "class Car(Vehicle):\n",
    "    def __init__(self, make, model):\n",
    "        super().__init__(\"Car\")  # Call parent class initializer\n",
    "        self.make = make\n",
    "        self.model = model"
   ]
  },
  {
   "cell_type": "code",
   "execution_count": 14,
   "id": "b5cb5125-3a98-4574-b08f-6ef78b62252d",
   "metadata": {},
   "outputs": [],
   "source": [
    "# Example 5.1 \n",
    "\n",
    "# Define the parent class Vehicle\n",
    "class Vehicle:\n",
    "    number_of_wheels = ''  # Class-level attribute specific to cars\n",
    "    \n",
    "    def __init__(self, type_of_vehicle=\"unknown\"):\n",
    "        self.type_of_vehicle = type_of_vehicle  # Instance attribute for vehicle type"
   ]
  },
  {
   "cell_type": "code",
   "execution_count": 15,
   "id": "0d2547fc-f3fd-4ee7-bb1a-79de71cd8d05",
   "metadata": {},
   "outputs": [
    {
     "name": "stdout",
     "output_type": "stream",
     "text": [
      "My vehicle's attributes:  {'type_of_vehicle': 'unknown'}\n"
     ]
    }
   ],
   "source": [
    "# Create an instance of Vehicle with the default type\n",
    "my_v = Vehicle()\n",
    "\n",
    "# Display the attributes of the instance as a dictionary\n",
    "print(\"My vehicle's attributes: \", my_v.__dict__)"
   ]
  },
  {
   "cell_type": "code",
   "execution_count": 16,
   "id": "e4dcc7a3-b253-42e4-9b7f-4d7f8da52575",
   "metadata": {},
   "outputs": [
    {
     "name": "stdout",
     "output_type": "stream",
     "text": [
      "My vehicle's attributes:  {'type_of_vehicle': 'Bike'}\n"
     ]
    }
   ],
   "source": [
    "# Create another instance of Vehicle, specifying the type as \"Bike\"\n",
    "my_v = Vehicle(\"Bike\")\n",
    "\n",
    "# Display the attributes of the instance as a dictionary\n",
    "print(\"My vehicle's attributes: \", my_v.__dict__)"
   ]
  },
  {
   "cell_type": "code",
   "execution_count": 17,
   "id": "cce72d5d-98a9-4c69-8f57-89f71d42cf6b",
   "metadata": {},
   "outputs": [
    {
     "data": {
      "text/plain": [
       "''"
      ]
     },
     "execution_count": 17,
     "metadata": {},
     "output_type": "execute_result"
    }
   ],
   "source": [
    "my_v.number_of_wheels"
   ]
  },
  {
   "cell_type": "code",
   "execution_count": 18,
   "id": "ca1a9471-042b-4a6c-9e37-3d27bf792051",
   "metadata": {},
   "outputs": [],
   "source": [
    "# Define a subclass Car that inherits from Vehicle\n",
    "class Car(Vehicle):\n",
    "    number_of_wheels = 4  # Class-level attribute specific to cars\n",
    "\n",
    "    def __init__(self, make=\"unknown\", model=\"unknown\"):\n",
    "        super().__init__(\"Car\")  # Call the initializer of the parent Vehicle class\n",
    "        self.make = make         # Instance attribute for car make\n",
    "        self.model = model       # Instance attribute for car model"
   ]
  },
  {
   "cell_type": "code",
   "execution_count": 19,
   "id": "f03b0814-955a-4d1e-995b-e0b2b6fd9058",
   "metadata": {},
   "outputs": [
    {
     "name": "stdout",
     "output_type": "stream",
     "text": [
      "My car's attributes:  {'type_of_vehicle': 'Car', 'make': 'Fiat', 'model': 'Panda'}\n",
      "My car's number of wheels:  4\n"
     ]
    }
   ],
   "source": [
    "# Create an instance of Car, specifying the make and model\n",
    "my_c = Car(\"Fiat\", \"Panda\")\n",
    "\n",
    "# Display the attributes of the Car instance as a dictionary\n",
    "print(\"My car's attributes: \", my_c.__dict__)\n",
    "\n",
    "# Access the class-level attribute for the number of wheels\n",
    "print(\"My car's number of wheels: \", my_c.number_of_wheels)"
   ]
  },
  {
   "cell_type": "code",
   "execution_count": 20,
   "id": "b1bf3d43-011d-45c6-ab48-a57aebe6e0f8",
   "metadata": {},
   "outputs": [
    {
     "name": "stdout",
     "output_type": "stream",
     "text": [
      "My bike's number of wheels:  2\n",
      "My bike's attributes:  unknown\n"
     ]
    }
   ],
   "source": [
    "# Define a subclass Bike that inherits from Vehicle\n",
    "class Bike(Vehicle):\n",
    "    number_of_wheels = 2  # Class-level attribute specific to bikes\n",
    "\n",
    "    def __init__(self, make='unknown', model='unknown'):\n",
    "        super().__init__(\"Bike\")  # Call the initializer of the parent Vehicle class\n",
    "        self.make = make          # Instance attribute for bike make\n",
    "        self.model = model        # Instance attribute for bike model\n",
    "        \n",
    "\n",
    "# Create an instance of Bike with default make and model\n",
    "my_b = Bike()\n",
    "\n",
    "# Access the class-level attribute for the number of wheels\n",
    "print(\"My bike's number of wheels: \", my_b.number_of_wheels)\n",
    "\n",
    "# Access the instance attribute for the make\n",
    "print(\"My bike's attributes: \", my_b.make)"
   ]
  },
  {
   "cell_type": "markdown",
   "id": "a2f9b4e2-ed70-4787-b25f-20b9e522e144",
   "metadata": {},
   "source": [
    "#### **Polymorphism (Polimorfismo)**"
   ]
  },
  {
   "cell_type": "markdown",
   "id": "efebc6fc-404e-4f21-99b8-9e9f120093c4",
   "metadata": {},
   "source": [
    "Polymorphism allows objects of different classes to be treated as objects of a common parent class. Methods can have different implementations depending on the object.\n",
    "\n",
    "Example:\n",
    "```python\n",
    "class Animal:\n",
    "    def speak(self):\n",
    "        pass\n",
    "\n",
    "class Dog(Animal):\n",
    "    def speak(self):\n",
    "        return \"Woof!\"\n",
    "\n",
    "class Cat(Animal):\n",
    "    def speak(self):\n",
    "        return \"Meow!\"\n",
    "\n",
    "for animal in [Dog(), Cat()]:\n",
    "    print(animal.speak())  # Outputs: Woof! Meow!"
   ]
  },
  {
   "cell_type": "markdown",
   "id": "885327fd-1dd6-4103-96fe-fac5de429dbe",
   "metadata": {},
   "source": [
    "#### **Abstraction (Astrazione)**"
   ]
  },
  {
   "cell_type": "markdown",
   "id": "7bf3d446-03f2-42dd-9bdd-b8d3ba79d6bf",
   "metadata": {
    "jp-MarkdownHeadingCollapsed": true
   },
   "source": [
    "Abstraction hides the complex implementation details and only exposes the necessary functionality.\n",
    "\n",
    "Example:\n",
    "```python\n",
    "from abc import ABC, abstractmethod\n",
    "\n",
    "class Shape(ABC):\n",
    "    @abstractmethod\n",
    "    def area(self):\n",
    "        pass\n",
    "\n",
    "class Circle(Shape):\n",
    "    def __init__(self, radius):\n",
    "        self.radius = radius\n",
    "\n",
    "    def area(self):\n",
    "        return 3.14 * self.radius ** 2\n",
    "\n",
    "my_circle = Circle(5)\n",
    "print(my_circle.area())  # Outputs: 78.5"
   ]
  },
  {
   "cell_type": "code",
   "execution_count": null,
   "id": "e4f28219-25fd-4f15-b5d0-19e9987bb74f",
   "metadata": {},
   "outputs": [],
   "source": []
  }
 ],
 "metadata": {
  "kernelspec": {
   "display_name": "Python 3 (ipykernel)",
   "language": "python",
   "name": "python3"
  },
  "language_info": {
   "codemirror_mode": {
    "name": "ipython",
    "version": 3
   },
   "file_extension": ".py",
   "mimetype": "text/x-python",
   "name": "python",
   "nbconvert_exporter": "python",
   "pygments_lexer": "ipython3",
   "version": "3.11.7"
  }
 },
 "nbformat": 4,
 "nbformat_minor": 5
}
